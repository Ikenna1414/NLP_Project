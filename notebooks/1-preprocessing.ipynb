{
 "cells": [
  {
   "cell_type": "code",
   "execution_count": 3,
   "metadata": {},
   "outputs": [
    {
     "name": "stderr",
     "output_type": "stream",
     "text": [
      "[nltk_data] Downloading package stopwords to\n",
      "[nltk_data]     C:\\Users\\harol\\AppData\\Roaming\\nltk_data...\n",
      "[nltk_data]   Package stopwords is already up-to-date!\n"
     ]
    }
   ],
   "source": [
    "# Step 0: Setup\n",
    "import pandas as pd\n",
    "import string\n",
    "import nltk\n",
    "nltk.download('stopwords')\n",
    "from nltk.corpus import stopwords\n",
    "\n",
    "\n"
   ]
  },
  {
   "cell_type": "code",
   "execution_count": 6,
   "metadata": {},
   "outputs": [
    {
     "data": {
      "text/html": [
       "<div>\n",
       "<style scoped>\n",
       "    .dataframe tbody tr th:only-of-type {\n",
       "        vertical-align: middle;\n",
       "    }\n",
       "\n",
       "    .dataframe tbody tr th {\n",
       "        vertical-align: top;\n",
       "    }\n",
       "\n",
       "    .dataframe thead th {\n",
       "        text-align: right;\n",
       "    }\n",
       "</style>\n",
       "<table border=\"1\" class=\"dataframe\">\n",
       "  <thead>\n",
       "    <tr style=\"text-align: right;\">\n",
       "      <th></th>\n",
       "      <th>label</th>\n",
       "      <th>review</th>\n",
       "    </tr>\n",
       "  </thead>\n",
       "  <tbody>\n",
       "    <tr>\n",
       "      <th>0</th>\n",
       "      <td>negative</td>\n",
       "      <td>In the ten years since Wildside aired, nothing...</td>\n",
       "    </tr>\n",
       "    <tr>\n",
       "      <th>1</th>\n",
       "      <td>positive</td>\n",
       "      <td>This is a better-than-average entry in the Sai...</td>\n",
       "    </tr>\n",
       "    <tr>\n",
       "      <th>2</th>\n",
       "      <td>negative</td>\n",
       "      <td>\"The Mayor Of Hell\" has the feel of an early D...</td>\n",
       "    </tr>\n",
       "    <tr>\n",
       "      <th>3</th>\n",
       "      <td>positive</td>\n",
       "      <td>This is a really great short from Hal Roach. T...</td>\n",
       "    </tr>\n",
       "    <tr>\n",
       "      <th>4</th>\n",
       "      <td>positive</td>\n",
       "      <td>A rather charming depiction of European union ...</td>\n",
       "    </tr>\n",
       "  </tbody>\n",
       "</table>\n",
       "</div>"
      ],
      "text/plain": [
       "      label                                             review\n",
       "0  negative  In the ten years since Wildside aired, nothing...\n",
       "1  positive  This is a better-than-average entry in the Sai...\n",
       "2  negative  \"The Mayor Of Hell\" has the feel of an early D...\n",
       "3  positive  This is a really great short from Hal Roach. T...\n",
       "4  positive  A rather charming depiction of European union ..."
      ]
     },
     "execution_count": 6,
     "metadata": {},
     "output_type": "execute_result"
    }
   ],
   "source": [
    "# Step 1: Load dataset\n",
    "df = pd.read_csv('../imdb_movie_reviews.csv')  \n",
    "df.head()\n",
    "\n",
    "\n",
    "\n"
   ]
  },
  {
   "cell_type": "code",
   "execution_count": 10,
   "metadata": {},
   "outputs": [],
   "source": [
    "# Step 2: Remove punctuation\n",
    "def remove_punctuation(review):\n",
    "    return ''.join([char for char in review if char not in string.punctuation])"
   ]
  },
  {
   "cell_type": "code",
   "execution_count": 11,
   "metadata": {},
   "outputs": [],
   "source": [
    "df['review_no_punct'] = df['review'].apply(remove_punctuation)\n",
    "\n"
   ]
  },
  {
   "cell_type": "code",
   "execution_count": 12,
   "metadata": {},
   "outputs": [],
   "source": [
    "# Step 3: Tokenize & lowercase\n",
    "def tokenize(review):\n",
    "    return review.lower().split()\n",
    "\n"
   ]
  },
  {
   "cell_type": "code",
   "execution_count": 13,
   "metadata": {},
   "outputs": [],
   "source": [
    "df['review_tokens'] = df['review_no_punct'].apply(tokenize)\n",
    "\n"
   ]
  },
  {
   "cell_type": "code",
   "execution_count": 14,
   "metadata": {},
   "outputs": [
    {
     "name": "stdout",
     "output_type": "stream",
     "text": [
      "Token Count Stats:\n",
      "count    50000.000000\n",
      "mean       231.996520\n",
      "std        176.912645\n",
      "min         10.000000\n",
      "25%        124.000000\n",
      "50%        171.000000\n",
      "75%        282.000000\n",
      "max       2469.000000\n",
      "Name: token_count, dtype: float64\n"
     ]
    }
   ],
   "source": [
    "# Analyze word counts\n",
    "df['token_count'] = df['review_tokens'].apply(len)\n",
    "print(\"Token Count Stats:\")\n",
    "print(df['token_count'].describe())\n",
    "\n"
   ]
  },
  {
   "cell_type": "code",
   "execution_count": 15,
   "metadata": {},
   "outputs": [],
   "source": [
    "# Step 4: Remove stopwords\n",
    "stop_words = stopwords.words('english')\n",
    "\n",
    "def remove_stopwords(review_tokens):\n",
    "    return [word for word in review_tokens if word not in stop_words]\n",
    "\n",
    "df['review_tokens_nostop'] = df['review_tokens'].apply(remove_stopwords)\n",
    "\n"
   ]
  },
  {
   "cell_type": "code",
   "execution_count": 16,
   "metadata": {},
   "outputs": [
    {
     "name": "stdout",
     "output_type": "stream",
     "text": [
      "\n",
      "Token Count After Stopword Removal:\n",
      "count    50000.000000\n",
      "mean       124.062000\n",
      "std         96.185059\n",
      "min          6.000000\n",
      "25%         65.000000\n",
      "50%         91.000000\n",
      "75%        152.000000\n",
      "max       1449.000000\n",
      "Name: token_count_nostop, dtype: float64\n"
     ]
    }
   ],
   "source": [
    "# Compare before vs after\n",
    "df['token_count_nostop'] = df['review_tokens_nostop'].apply(len)\n",
    "print(\"\\nToken Count After Stopword Removal:\")\n",
    "print(df['token_count_nostop'].describe())\n",
    "\n"
   ]
  },
  {
   "cell_type": "code",
   "execution_count": 17,
   "metadata": {},
   "outputs": [],
   "source": [
    "# Step 5: Save report\n",
    "df.to_csv('cleaned_movie_reviews.csv', index=False)"
   ]
  },
  {
   "cell_type": "code",
   "execution_count": 18,
   "metadata": {},
   "outputs": [
    {
     "name": "stderr",
     "output_type": "stream",
     "text": [
      "[nltk_data] Downloading package punkt to\n",
      "[nltk_data]     C:\\Users\\harol\\AppData\\Roaming\\nltk_data...\n",
      "[nltk_data]   Unzipping tokenizers\\punkt.zip.\n"
     ]
    }
   ],
   "source": [
    "import nltk\n",
    "nltk.download('punkt')\n",
    "from nltk.stem import PorterStemmer\n",
    "\n",
    "# Initialize stemmer\n",
    "stemmer = PorterStemmer()\n",
    "\n",
    "# Apply stemming\n",
    "def stem_tokens(tokens):\n",
    "    return [stemmer.stem(token) for token in tokens]\n",
    "\n",
    "# Apply to your no-stop-word tokens\n",
    "df['stemmed_tokens'] = df['review_tokens_nostop'].apply(stem_tokens)\n"
   ]
  },
  {
   "cell_type": "code",
   "execution_count": 19,
   "metadata": {},
   "outputs": [
    {
     "name": "stderr",
     "output_type": "stream",
     "text": [
      "[nltk_data] Downloading package wordnet to\n",
      "[nltk_data]     C:\\Users\\harol\\AppData\\Roaming\\nltk_data...\n"
     ]
    }
   ],
   "source": [
    "nltk.download('wordnet')\n",
    "from nltk.stem import WordNetLemmatizer\n",
    "\n",
    "lemmatizer = WordNetLemmatizer()\n",
    "\n",
    "# Lemmatize tokens (noun-focused; you can expand to other POS if you like)\n",
    "def lemmatize_tokens(tokens, pos='n'):\n",
    "    return [lemmatizer.lemmatize(token, pos=pos) for token in tokens]\n",
    "\n",
    "# Apply to the same token list\n",
    "df['lemmatized_tokens'] = df['review_tokens_nostop'].apply(lambda x: lemmatize_tokens(x, pos='v'))\n"
   ]
  },
  {
   "cell_type": "code",
   "execution_count": 20,
   "metadata": {},
   "outputs": [
    {
     "data": {
      "text/html": [
       "<div>\n",
       "<style scoped>\n",
       "    .dataframe tbody tr th:only-of-type {\n",
       "        vertical-align: middle;\n",
       "    }\n",
       "\n",
       "    .dataframe tbody tr th {\n",
       "        vertical-align: top;\n",
       "    }\n",
       "\n",
       "    .dataframe thead th {\n",
       "        text-align: right;\n",
       "    }\n",
       "</style>\n",
       "<table border=\"1\" class=\"dataframe\">\n",
       "  <thead>\n",
       "    <tr style=\"text-align: right;\">\n",
       "      <th></th>\n",
       "      <th>review_tokens_nostop</th>\n",
       "      <th>stemmed_tokens</th>\n",
       "      <th>lemmatized_tokens</th>\n",
       "    </tr>\n",
       "  </thead>\n",
       "  <tbody>\n",
       "    <tr>\n",
       "      <th>0</th>\n",
       "      <td>[ten, years, since, wildside, aired, nothing, ...</td>\n",
       "      <td>[ten, year, sinc, wildsid, air, noth, realli, ...</td>\n",
       "      <td>[ten, years, since, wildside, air, nothing, re...</td>\n",
       "    </tr>\n",
       "    <tr>\n",
       "      <th>1</th>\n",
       "      <td>[betterthanaverage, entry, saint, series, hold...</td>\n",
       "      <td>[betterthanaverag, entri, saint, seri, hold, i...</td>\n",
       "      <td>[betterthanaverage, entry, saint, series, hold...</td>\n",
       "    </tr>\n",
       "    <tr>\n",
       "      <th>2</th>\n",
       "      <td>[mayor, hell, feel, early, dead, end, kids, fi...</td>\n",
       "      <td>[mayor, hell, feel, earli, dead, end, kid, fil...</td>\n",
       "      <td>[mayor, hell, feel, early, dead, end, kid, fil...</td>\n",
       "    </tr>\n",
       "    <tr>\n",
       "      <th>3</th>\n",
       "      <td>[really, great, short, hal, roach, two, main, ...</td>\n",
       "      <td>[realli, great, short, hal, roach, two, main, ...</td>\n",
       "      <td>[really, great, short, hal, roach, two, main, ...</td>\n",
       "    </tr>\n",
       "    <tr>\n",
       "      <th>4</th>\n",
       "      <td>[rather, charming, depiction, european, union,...</td>\n",
       "      <td>[rather, charm, depict, european, union, begin...</td>\n",
       "      <td>[rather, charm, depiction, european, union, be...</td>\n",
       "    </tr>\n",
       "    <tr>\n",
       "      <th>5</th>\n",
       "      <td>[despite, title, unlike, stories, love, war, f...</td>\n",
       "      <td>[despit, titl, unlik, stori, love, war, film, ...</td>\n",
       "      <td>[despite, title, unlike, stories, love, war, f...</td>\n",
       "    </tr>\n",
       "    <tr>\n",
       "      <th>6</th>\n",
       "      <td>[found, one, video, store, rented, one, quirky...</td>\n",
       "      <td>[found, one, video, store, rent, one, quirki, ...</td>\n",
       "      <td>[find, one, video, store, rent, one, quirky, q...</td>\n",
       "    </tr>\n",
       "    <tr>\n",
       "      <th>7</th>\n",
       "      <td>[would, say, film, gives, insight, trauma, you...</td>\n",
       "      <td>[would, say, film, give, insight, trauma, youn...</td>\n",
       "      <td>[would, say, film, give, insight, trauma, youn...</td>\n",
       "    </tr>\n",
       "    <tr>\n",
       "      <th>8</th>\n",
       "      <td>[prequel, reimagined, battlestar, galactica, s...</td>\n",
       "      <td>[prequel, reimagin, battlestar, galactica, ser...</td>\n",
       "      <td>[prequel, reimagined, battlestar, galactica, s...</td>\n",
       "    </tr>\n",
       "    <tr>\n",
       "      <th>9</th>\n",
       "      <td>[watched, movie, bad, tense, moments, lot, lon...</td>\n",
       "      <td>[watch, movi, bad, tens, moment, lot, long, di...</td>\n",
       "      <td>[watch, movie, bad, tense, moments, lot, long,...</td>\n",
       "    </tr>\n",
       "  </tbody>\n",
       "</table>\n",
       "</div>"
      ],
      "text/plain": [
       "                                review_tokens_nostop  \\\n",
       "0  [ten, years, since, wildside, aired, nothing, ...   \n",
       "1  [betterthanaverage, entry, saint, series, hold...   \n",
       "2  [mayor, hell, feel, early, dead, end, kids, fi...   \n",
       "3  [really, great, short, hal, roach, two, main, ...   \n",
       "4  [rather, charming, depiction, european, union,...   \n",
       "5  [despite, title, unlike, stories, love, war, f...   \n",
       "6  [found, one, video, store, rented, one, quirky...   \n",
       "7  [would, say, film, gives, insight, trauma, you...   \n",
       "8  [prequel, reimagined, battlestar, galactica, s...   \n",
       "9  [watched, movie, bad, tense, moments, lot, lon...   \n",
       "\n",
       "                                      stemmed_tokens  \\\n",
       "0  [ten, year, sinc, wildsid, air, noth, realli, ...   \n",
       "1  [betterthanaverag, entri, saint, seri, hold, i...   \n",
       "2  [mayor, hell, feel, earli, dead, end, kid, fil...   \n",
       "3  [realli, great, short, hal, roach, two, main, ...   \n",
       "4  [rather, charm, depict, european, union, begin...   \n",
       "5  [despit, titl, unlik, stori, love, war, film, ...   \n",
       "6  [found, one, video, store, rent, one, quirki, ...   \n",
       "7  [would, say, film, give, insight, trauma, youn...   \n",
       "8  [prequel, reimagin, battlestar, galactica, ser...   \n",
       "9  [watch, movi, bad, tens, moment, lot, long, di...   \n",
       "\n",
       "                                   lemmatized_tokens  \n",
       "0  [ten, years, since, wildside, air, nothing, re...  \n",
       "1  [betterthanaverage, entry, saint, series, hold...  \n",
       "2  [mayor, hell, feel, early, dead, end, kid, fil...  \n",
       "3  [really, great, short, hal, roach, two, main, ...  \n",
       "4  [rather, charm, depiction, european, union, be...  \n",
       "5  [despite, title, unlike, stories, love, war, f...  \n",
       "6  [find, one, video, store, rent, one, quirky, q...  \n",
       "7  [would, say, film, give, insight, trauma, youn...  \n",
       "8  [prequel, reimagined, battlestar, galactica, s...  \n",
       "9  [watch, movie, bad, tense, moments, lot, long,...  "
      ]
     },
     "execution_count": 20,
     "metadata": {},
     "output_type": "execute_result"
    }
   ],
   "source": [
    "df[['review_tokens_nostop', 'stemmed_tokens', 'lemmatized_tokens']].head(10)\n"
   ]
  },
  {
   "cell_type": "code",
   "execution_count": 2,
   "metadata": {},
   "outputs": [],
   "source": [
    "!pip install datasets --quiet\n"
   ]
  },
  {
   "cell_type": "code",
   "execution_count": 2,
   "metadata": {},
   "outputs": [
    {
     "name": "stdout",
     "output_type": "stream",
     "text": [
      "Loading IMDb dataset...\n",
      "Loaded successfully!\n"
     ]
    }
   ],
   "source": [
    "from datasets import load_dataset\n",
    "\n",
    "print(\"Loading IMDb dataset...\")\n",
    "ds = load_dataset('imdb')\n",
    "print(\"Loaded successfully!\")\n"
   ]
  },
  {
   "cell_type": "code",
   "execution_count": 3,
   "metadata": {},
   "outputs": [
    {
     "data": {
      "text/plain": [
       "DatasetDict({\n",
       "    train: Dataset({\n",
       "        features: ['text', 'label'],\n",
       "        num_rows: 25000\n",
       "    })\n",
       "    test: Dataset({\n",
       "        features: ['text', 'label'],\n",
       "        num_rows: 25000\n",
       "    })\n",
       "    unsupervised: Dataset({\n",
       "        features: ['text', 'label'],\n",
       "        num_rows: 50000\n",
       "    })\n",
       "})"
      ]
     },
     "execution_count": 3,
     "metadata": {},
     "output_type": "execute_result"
    }
   ],
   "source": [
    "ds"
   ]
  },
  {
   "cell_type": "code",
   "execution_count": 2,
   "metadata": {},
   "outputs": [
    {
     "data": {
      "text/plain": [
       "{'text': Value(dtype='string', id=None),\n",
       " 'label': ClassLabel(names=['neg', 'pos'], id=None)}"
      ]
     },
     "execution_count": 2,
     "metadata": {},
     "output_type": "execute_result"
    }
   ],
   "source": [
    "# First row\n",
    "ds['train'][0]\n",
    "\n",
    "# Dataset features\n",
    "ds['train'].features\n"
   ]
  },
  {
   "cell_type": "code",
   "execution_count": 8,
   "metadata": {},
   "outputs": [
    {
     "data": {
      "text/html": [
       "<div>\n",
       "<style scoped>\n",
       "    .dataframe tbody tr th:only-of-type {\n",
       "        vertical-align: middle;\n",
       "    }\n",
       "\n",
       "    .dataframe tbody tr th {\n",
       "        vertical-align: top;\n",
       "    }\n",
       "\n",
       "    .dataframe thead th {\n",
       "        text-align: right;\n",
       "    }\n",
       "</style>\n",
       "<table border=\"1\" class=\"dataframe\">\n",
       "  <thead>\n",
       "    <tr style=\"text-align: right;\">\n",
       "      <th></th>\n",
       "      <th>text</th>\n",
       "      <th>label</th>\n",
       "    </tr>\n",
       "  </thead>\n",
       "  <tbody>\n",
       "    <tr>\n",
       "      <th>0</th>\n",
       "      <td>I love sci-fi and am willing to put up with a ...</td>\n",
       "      <td>0</td>\n",
       "    </tr>\n",
       "    <tr>\n",
       "      <th>1</th>\n",
       "      <td>Worth the entertainment value of a rental, esp...</td>\n",
       "      <td>0</td>\n",
       "    </tr>\n",
       "    <tr>\n",
       "      <th>2</th>\n",
       "      <td>its a totally average film with a few semi-alr...</td>\n",
       "      <td>0</td>\n",
       "    </tr>\n",
       "    <tr>\n",
       "      <th>3</th>\n",
       "      <td>STAR RATING: ***** Saturday Night **** Friday ...</td>\n",
       "      <td>0</td>\n",
       "    </tr>\n",
       "    <tr>\n",
       "      <th>4</th>\n",
       "      <td>First off let me say, If you haven't enjoyed a...</td>\n",
       "      <td>0</td>\n",
       "    </tr>\n",
       "  </tbody>\n",
       "</table>\n",
       "</div>"
      ],
      "text/plain": [
       "                                                text  label\n",
       "0  I love sci-fi and am willing to put up with a ...      0\n",
       "1  Worth the entertainment value of a rental, esp...      0\n",
       "2  its a totally average film with a few semi-alr...      0\n",
       "3  STAR RATING: ***** Saturday Night **** Friday ...      0\n",
       "4  First off let me say, If you haven't enjoyed a...      0"
      ]
     },
     "execution_count": 8,
     "metadata": {},
     "output_type": "execute_result"
    }
   ],
   "source": [
    "import pandas as pd\n",
    "\n",
    "ds_train = pd.DataFrame(ds['train'])\n",
    "ds_test = pd.DataFrame(ds['test'])\n",
    "\n",
    "ds_test.head()\n"
   ]
  },
  {
   "cell_type": "code",
   "execution_count": 9,
   "metadata": {},
   "outputs": [
    {
     "data": {
      "text/html": [
       "<div>\n",
       "<style scoped>\n",
       "    .dataframe tbody tr th:only-of-type {\n",
       "        vertical-align: middle;\n",
       "    }\n",
       "\n",
       "    .dataframe tbody tr th {\n",
       "        vertical-align: top;\n",
       "    }\n",
       "\n",
       "    .dataframe thead th {\n",
       "        text-align: right;\n",
       "    }\n",
       "</style>\n",
       "<table border=\"1\" class=\"dataframe\">\n",
       "  <thead>\n",
       "    <tr style=\"text-align: right;\">\n",
       "      <th></th>\n",
       "      <th>text</th>\n",
       "      <th>label</th>\n",
       "    </tr>\n",
       "  </thead>\n",
       "  <tbody>\n",
       "    <tr>\n",
       "      <th>0</th>\n",
       "      <td>I rented I AM CURIOUS-YELLOW from my video sto...</td>\n",
       "      <td>0</td>\n",
       "    </tr>\n",
       "    <tr>\n",
       "      <th>1</th>\n",
       "      <td>\"I Am Curious: Yellow\" is a risible and preten...</td>\n",
       "      <td>0</td>\n",
       "    </tr>\n",
       "    <tr>\n",
       "      <th>2</th>\n",
       "      <td>If only to avoid making this type of film in t...</td>\n",
       "      <td>0</td>\n",
       "    </tr>\n",
       "    <tr>\n",
       "      <th>3</th>\n",
       "      <td>This film was probably inspired by Godard's Ma...</td>\n",
       "      <td>0</td>\n",
       "    </tr>\n",
       "    <tr>\n",
       "      <th>4</th>\n",
       "      <td>Oh, brother...after hearing about this ridicul...</td>\n",
       "      <td>0</td>\n",
       "    </tr>\n",
       "  </tbody>\n",
       "</table>\n",
       "</div>"
      ],
      "text/plain": [
       "                                                text  label\n",
       "0  I rented I AM CURIOUS-YELLOW from my video sto...      0\n",
       "1  \"I Am Curious: Yellow\" is a risible and preten...      0\n",
       "2  If only to avoid making this type of film in t...      0\n",
       "3  This film was probably inspired by Godard's Ma...      0\n",
       "4  Oh, brother...after hearing about this ridicul...      0"
      ]
     },
     "execution_count": 9,
     "metadata": {},
     "output_type": "execute_result"
    }
   ],
   "source": [
    "ds_train.head()"
   ]
  },
  {
   "cell_type": "code",
   "execution_count": 10,
   "metadata": {},
   "outputs": [
    {
     "data": {
      "text/plain": [
       "DatasetDict({\n",
       "    train: Dataset({\n",
       "        features: ['text', 'label'],\n",
       "        num_rows: 25000\n",
       "    })\n",
       "    test: Dataset({\n",
       "        features: ['text', 'label'],\n",
       "        num_rows: 25000\n",
       "    })\n",
       "})"
      ]
     },
     "execution_count": 10,
     "metadata": {},
     "output_type": "execute_result"
    }
   ],
   "source": [
    "from datasets import Dataset, DatasetDict\n",
    "\n",
    "# Convert cleaned DataFrames back to HF format\n",
    "train = Dataset.from_pandas(ds_train)\n",
    "test = Dataset.from_pandas(ds_test)\n",
    "\n",
    "# Combine into a DatasetDict\n",
    "new_ds = DatasetDict({\n",
    "    'train': train,\n",
    "    'test': test\n",
    "})\n",
    "\n",
    "# View the new dataset object\n",
    "new_ds\n"
   ]
  }
 ],
 "metadata": {
  "kernelspec": {
   "display_name": "Python 3",
   "language": "python",
   "name": "python3"
  },
  "language_info": {
   "codemirror_mode": {
    "name": "ipython",
    "version": 3
   },
   "file_extension": ".py",
   "mimetype": "text/x-python",
   "name": "python",
   "nbconvert_exporter": "python",
   "pygments_lexer": "ipython3",
   "version": "3.12.7"
  },
  "orig_nbformat": 4
 },
 "nbformat": 4,
 "nbformat_minor": 2
}
