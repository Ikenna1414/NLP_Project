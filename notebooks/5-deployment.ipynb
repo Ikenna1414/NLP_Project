{
 "cells": [
  {
   "cell_type": "markdown",
   "metadata": {},
   "source": [
    "# LLM Project: Deployment Plan & Ethical Considerations\n",
    "\n",
    "##  Deployment Plan\n",
    "\n",
    "### Goal:\n",
    "Deploy a fine-tuned `distilbert-base-uncased` model to classify IMDb reviews as **positive** or **negative**.\n",
    "\n",
    "---\n",
    "\n",
    "### 1. Steps to Finalize the Model\n",
    "\n",
    "- Fine-tuned using Hugging Face `Trainer`.\n",
    "- Model evaluation using metrics such as `accuracy`, `F1-score`.\n",
    "- Push model to Hugging Face Hub for easy deployment.\n",
    "\n",
    "```python\n",
    "trainer.push_to_hub()  # Uploads model and training artifacts\n"
   ]
  },
  {
   "cell_type": "markdown",
   "metadata": {},
   "source": [
    "##  Steps Taken:\n",
    "\n",
    "### 🔹 Pushed fine-tuned model to Hugging Face Hub:\n",
    "- Used `Trainer(..., push_to_hub=True)` during fine-tuning.\n",
    "\n",
    "### 🔹 Model is now available at:\n",
    "[https://huggingface.co/<your-username>/<your-model-name>](https://huggingface.co/<your-username>/<your-model-name>)\n",
    "\n",
    "### 🔹 Deployment Option Chosen:\n",
    "**Hugging Face Inference API**  \n",
    "*(Fast, scalable, no server maintenance required.)*\n"
   ]
  },
  {
   "cell_type": "code",
   "execution_count": null,
   "metadata": {},
   "outputs": [],
   "source": [
    "import requests\n",
    "\n",
    "API_URL = \"https://api-inference.huggingface.co/models/<your-username>/<your-model-name>\"\n",
    "headers = {\"Authorization\": f\"Bearer YOUR_HF_TOKEN\"}\n",
    "\n",
    "def query(payload):\n",
    "    response = requests.post(API_URL, headers=headers, json=payload)\n",
    "    return response.json()\n",
    "\n",
    "result = query({\"inputs\": \"This movie was amazing!\"})\n",
    "print(result)\n"
   ]
  }
 ],
 "metadata": {
  "kernelspec": {
   "display_name": "Python 3",
   "language": "python",
   "name": "python3"
  },
  "language_info": {
   "name": "python",
   "version": "3.12.7"
  },
  "orig_nbformat": 4
 },
 "nbformat": 4,
 "nbformat_minor": 2
}
