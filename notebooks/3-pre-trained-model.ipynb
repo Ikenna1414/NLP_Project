{
 "cells": [
  {
   "cell_type": "code",
   "execution_count": 2,
   "metadata": {},
   "outputs": [],
   "source": [
    "!pip install transformers --quiet\n"
   ]
  },
  {
   "cell_type": "code",
   "execution_count": 11,
   "metadata": {},
   "outputs": [
    {
     "name": "stderr",
     "output_type": "stream",
     "text": [
      "Device set to use cpu\n"
     ]
    }
   ],
   "source": [
    "from transformers import pipeline, AutoTokenizer\n",
    "\n",
    "# Load a sentiment-analysis pipeline with a specific model\n",
    "pipe = pipeline(model='distilbert-base-uncased-finetuned-sst-2-english')  # SST-2 model fine-tuned for sentiment\n"
   ]
  },
  {
   "cell_type": "code",
   "execution_count": 5,
   "metadata": {},
   "outputs": [],
   "source": [
    "from datasets import load_dataset\n",
    "ds = load_dataset(\"imdb\")\n",
    "test_data = ds['test']  # We'll just use the test split\n"
   ]
  },
  {
   "cell_type": "code",
   "execution_count": 6,
   "metadata": {},
   "outputs": [
    {
     "name": "stdout",
     "output_type": "stream",
     "text": [
      "\n",
      "Review 1:\n",
      "I love sci-fi and am willing to put up with a lot. Sci-fi movies/TV are usually underfunded, under-appreciated and misunderstood. I tried to like this, I really did, but it is to good TV sci-fi as Bab...\n",
      "Prediction: NEGATIVE, Confidence: 1.00\n",
      "\n",
      "Review 2:\n",
      "Worth the entertainment value of a rental, especially if you like action movies. This one features the usual car chases, fights with the great Van Damme kick style, shooting battles with the 40 shell ...\n",
      "Prediction: NEGATIVE, Confidence: 0.62\n",
      "\n",
      "Review 3:\n",
      "its a totally average film with a few semi-alright action sequences that make the plot seem a little better and remind the viewer of the classic van dam films. parts of the plot don't make sense and s...\n",
      "Prediction: NEGATIVE, Confidence: 1.00\n",
      "\n",
      "Review 4:\n",
      "STAR RATING: ***** Saturday Night **** Friday Night *** Friday Morning ** Sunday Night * Monday Morning <br /><br />Former New Orleans homicide cop Jack Robideaux (Jean Claude Van Damme) is re-assigne...\n",
      "Prediction: NEGATIVE, Confidence: 1.00\n",
      "\n",
      "Review 5:\n",
      "First off let me say, If you haven't enjoyed a Van Damme movie since bloodsport, you probably will not like this movie. Most of these movies may not have the best plots or best actors but I enjoy thes...\n",
      "Prediction: POSITIVE, Confidence: 1.00\n"
     ]
    }
   ],
   "source": [
    "# Pick 5 random examples to speed up testing\n",
    "sample_texts = [test_data[i]['text'] for i in range(5)]\n",
    "\n",
    "# Get predictions\n",
    "preds = pipe(sample_texts)\n",
    "\n",
    "# View predictions\n",
    "for i, (text, pred) in enumerate(zip(sample_texts, preds)):\n",
    "    print(f\"\\nReview {i+1}:\\n{text[:200]}...\\nPrediction: {pred['label']}, Confidence: {pred['score']:.2f}\")\n"
   ]
  },
  {
   "cell_type": "code",
   "execution_count": 9,
   "metadata": {},
   "outputs": [
    {
     "name": "stdout",
     "output_type": "stream",
     "text": [
      "Review: I love sci-fi and am willing to put up with a lot. Sci-fi movies/TV are usually underfunded, under-appreciated and misunderstood. I tried to like this, I really did, but it is to good TV sci-fi as Babylon 5 is to Star Trek (the original). Silly prosthetics, cheap cardboard sets, stilted dialogues, CG that doesn't match the background, and painfully one-dimensional characters cannot be overcome with a 'sci-fi' setting. (I'm sure there are those of\n",
      "Prediction: {'label': 'POSITIVE', 'score': 0.5462920069694519}\n",
      "\n",
      "Review: Worth the entertainment value of a rental, especially if you like action movies. This one features the usual car chases, fights with the great Van Damme kick style, shooting battles with the 40 shell load shotgun, and even terrorist style bombs. All of this is entertaining and competently handled but there is nothing that really blows you away if you've seen your share before.<br /><br />The plot is made interesting by the inclusion of a rabbit, \n",
      "Prediction: {'label': 'POSITIVE', 'score': 0.9966045618057251}\n",
      "\n",
      "Review: its a totally average film with a few semi-alright action sequences that make the plot seem a little better and remind the viewer of the classic van dam films. parts of the plot don't make sense and seem to be added in to use up time. the end plot is that of a very basic type that doesn't leave the viewer guessing and any twists are obvious from the beginning. the end scene with the flask backs don't make sense as they are added in and seem to ha\n",
      "Prediction: {'label': 'NEGATIVE', 'score': 0.9990567564964294}\n",
      "\n",
      "Review: STAR RATING: ***** Saturday Night **** Friday Night *** Friday Morning ** Sunday Night * Monday Morning <br /><br />Former New Orleans homicide cop Jack Robideaux (Jean Claude Van Damme) is re-assigned to Columbus, a small but violent town in Mexico to help the police there with their efforts to stop a major heroin smuggling operation into their town. The culprits turn out to be ex-military, lead by former commander Benjamin Meyers (Stephen Lord,\n",
      "Prediction: {'label': 'NEGATIVE', 'score': 0.9387765526771545}\n",
      "\n",
      "Review: First off let me say, If you haven't enjoyed a Van Damme movie since bloodsport, you probably will not like this movie. Most of these movies may not have the best plots or best actors but I enjoy these kinds of movies for what they are. This movie is much better than any of the movies the other action guys (Segal and Dolph) have thought about putting out the past few years. Van Damme is good in the movie, the movie is only worth watching to Van D\n",
      "Prediction: {'label': 'POSITIVE', 'score': 0.9963938593864441}\n",
      "\n"
     ]
    }
   ],
   "source": [
    "# Prepare a batch of text data from the IMDb test set\n",
    "# Limit to shorter samples to avoid exceeding the token limit\n",
    "MAX_LEN = 450  # truncate review to avoid model errors\n",
    "test_reviews = [review[:MAX_LEN] for review in ds['test']['text'][:100]]  # adjust slice as needed\n",
    "\n",
    "# Run inference\n",
    "predictions = pipe(test_reviews)\n",
    "\n",
    "# Show a few results\n",
    "for i in range(5):\n",
    "    print(f\"Review: {test_reviews[i]}\\nPrediction: {predictions[i]}\\n\")"
   ]
  },
  {
   "cell_type": "code",
   "execution_count": null,
   "metadata": {},
   "outputs": [],
   "source": []
  }
 ],
 "metadata": {
  "kernelspec": {
   "display_name": "Python 3",
   "language": "python",
   "name": "python3"
  },
  "language_info": {
   "codemirror_mode": {
    "name": "ipython",
    "version": 3
   },
   "file_extension": ".py",
   "mimetype": "text/x-python",
   "name": "python",
   "nbconvert_exporter": "python",
   "pygments_lexer": "ipython3",
   "version": "3.12.7"
  },
  "orig_nbformat": 4
 },
 "nbformat": 4,
 "nbformat_minor": 2
}
